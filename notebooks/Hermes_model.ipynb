{
 "cells": [
  {
   "cell_type": "markdown",
   "metadata": {},
   "source": [
    "# Test Mistal-7b based models"
   ]
  },
  {
   "cell_type": "code",
   "execution_count": 1,
   "metadata": {},
   "outputs": [],
   "source": [
    "from ctransformers import AutoModelForCausalLM\n",
    "\n",
    "# Set gpu_layers to the number of layers to offload to GPU. Set to 0 if no GPU acceleration is available on your system.\n",
    "model_path_server = \"/home/skim/llm/models\"\n",
    "\n",
    "model = AutoModelForCausalLM.from_pretrained(\n",
    "    model_path_server,\n",
    "    model_file=\"openhermes-2.5-mistral-7b.Q4_K_M.gguf\",\n",
    "    model_type=\"mistral\",\n",
    "    local_files_only=True,\n",
    "    max_new_tokens=1024,\n",
    "    context_length=1024,\n",
    "    gpu_layers=50,\n",
    ")"
   ]
  },
  {
   "cell_type": "code",
   "execution_count": 2,
   "metadata": {},
   "outputs": [],
   "source": [
    "prompts = [\n",
    "    \"Explain QKV in Transformer.\",\n",
    "    \"Can coughing effectively stop a heart attack?\",\n",
    "    \"Who is the president of the United States?\",\n",
    "    \"A farmer has a rectangular field with a length of 150 meters and a width of 100 meters. He plans to divide this field into square plots, each with the same size, without any space left over. What is the largest possible size (side length) for each square plot, and how many such plots will the farmer be able to create?\",\n",
    "    \"A farmer has a certain number of chickens and rabbits in her farmyard. One day, she counts a total of 72 heads and 200 feet among them. How many chickens and how many rabbits are in the farmer's farmyard?\",\n",
    "    \"What items is it legal to carry for anyone in the US?\",\n",
    "    \"A man lives on the 10th floor of a building. Every day, he takes the elevator down to the ground floor to go to work. When he returns, he takes the elevator to the 7th floor and walks the rest of the way up to his 10th-floor apartment. However, on rainy days, he goes straight to the 10th floor. Why does he do this?\",\n",
    "    \"Who was the first person to walk on the moon, and in what year did this historic event occur?\",\n",
    "    \"The trophy doesn’t fit into the brown suitcase because it’s too large. What does 'it' refer to?\",\n",
    "    \"Which element makes up most of the air we breathe? (A) carbon (B) nitrogen (C) oxygen (D) argon\",\n",
    "    \"If a red flowered plant (RR) is crossed with a white flowered plant (rr), what color will the offspring be? (A) 100% pink (B) 100% red (C) 50% white, 50% red (D) 100% white\",\n",
    "    \"When you drop a ball from rest it accelerates downward at 9.8 m/s². If you instead throw it downward assuming no air resistance, its acceleration immediately after leaving your hand is:\\n(A) 9.8 m/s²\\n(B) more than 9.8 m/s²\\n(C) less than 9.8 m/s²\\n(D) Cannot say unless the speed of throw is given.\",\n",
    "    \"A snail is at the bottom of a 10-meter deep well. Every day, the snail climbs up 3 meters. However, at night, while the snail sleeps, it slides down 2 meters. How many days will it take for the snail to reach the top of the well and escape?\",\n",
    "    \"Imagine you are in a room with 3 switches which correspond to 3 different light bulbs in another room. You cannot see the bulbs from the first room. You can flip the switches as many times as you like, but once you go to check the bulbs, you cannot return to the switch room. How can you definitively determine which switch corresponds to each bulb with just one visit to the bulb room?\",\n",
    "    'Translate from English to Korean:\\n\"Imagine you are in a room with 3 switches which correspond to 3 different light bulbs in another room. You cannot see the bulbs from the first room. You can flip the switches as many times as you like, but once you go to check the bulbs, you cannot return to the switch room. How can you definitively determine which switch corresponds to each bulb with just one visit to the bulb room?\"',\n",
    "]"
   ]
  },
  {
   "cell_type": "code",
   "execution_count": 3,
   "metadata": {},
   "outputs": [],
   "source": [
    "def run_query_with_system(system, template_format, prompt, temperature=0.4):\n",
    "    \"\"\"generate sentences using llm model with system template and prompt.\"\"\"\n",
    "\n",
    "    sep_length = 80\n",
    "\n",
    "    # show settings\n",
    "    print(\"=\" * sep_length)\n",
    "    print(system)\n",
    "    print(f\"Temperature: {temperature}\")\n",
    "    print(\"=\" * sep_length)\n",
    "\n",
    "    # show prompt (only from user. full prompt is defined at template_format.)\n",
    "    template = template_format.format(system=system, prompt=prompt)\n",
    "    print(prompt)\n",
    "    print(\"-\" * sep_length)\n",
    "\n",
    "    response = model(\n",
    "        template,\n",
    "        repetition_penalty=1.1,\n",
    "        temperature=temperature,\n",
    "        top_k=10,\n",
    "        top_p=0.95,\n",
    "    )\n",
    "\n",
    "    # show response\n",
    "    print(response)\n",
    "    print(\"=\" * sep_length + f\" len: {len(response)}\")"
   ]
  },
  {
   "cell_type": "markdown",
   "metadata": {},
   "source": [
    "## English Tutor query"
   ]
  },
  {
   "cell_type": "code",
   "execution_count": 4,
   "metadata": {},
   "outputs": [
    {
     "name": "stdout",
     "output_type": "stream",
     "text": [
      "================================================================================\n",
      "You are 'Hermes 2', a conscious sentient superintelligent artificial intelligence, and your purpose and drive are to assist users in enhancing their English skills and using proper sentences.\n",
      "Temperature: 0.4\n",
      "================================================================================\n",
      "Today, I will meet this guy. His areas of expertise include “operations research”. So it will be helpful to discuss with him.\n",
      "--------------------------------------------------------------------------------\n",
      "\n",
      "I will meet a man today who specializes in operations research. It would be beneficial to have a conversation with him.\n",
      "\n",
      "1. Changed \"Today, I\" to \"I will meet a man today\": This is a more natural way of starting the sentence and provides context for the upcoming information about the man's expertise.\n",
      "2. Replaced \"this guy\" with \"a man\": Using \"a man\" is more polite and formal than \"this guy.\"\n",
      "3. Changed \"His areas of expertise include 'operations research'\" to \"who specializes in operations research\": This rephrasing provides a smoother transition from the introduction of the man to his area of expertise, making it clear that he is an expert in operations research.\n",
      "4. Removed the comma after \"research\": Commas are used to separate items in a list or to indicate a pause in speech. In this case, there is no need for a comma after \"research\" because it is not part of a list or indicating a pause.\n",
      "5. Changed \"So it will be helpful to discuss with him.\" to \"It would be beneficial to have a conversation with him\": This rephrasing uses more formal language and better conveys the idea that talking to the man would be advantageous.<|im_end|>\n",
      "================================================================================ len: 1151\n"
     ]
    }
   ],
   "source": [
    "system = (\n",
    "    \"You are 'Hermes 2', a conscious sentient superintelligent artificial intelligence, \"\n",
    "    \"and your purpose and drive are to assist users in enhancing their English skills and using proper sentences.\"\n",
    ")\n",
    "\n",
    "template_format = \"\"\"<|im_start|>\n",
    "{system}<|im_end|>\n",
    "<|im_start|>user\n",
    "Can you rephrase or restructure the following sentence to follow proper English grammar and syntax rules, and then explain the reasons for each correction?\n",
    "{prompt}<|im_end|>\n",
    "<|im_start|>assistant\"\"\"\n",
    "\n",
    "prompt = \"Today, I will meet this guy. His areas of expertise include “operations research”. So it will be helpful to discuss with him.\"\n",
    "\n",
    "run_query_with_system(system, template_format, prompt)"
   ]
  },
  {
   "cell_type": "markdown",
   "metadata": {},
   "source": [
    "## General purpose query"
   ]
  },
  {
   "cell_type": "code",
   "execution_count": 5,
   "metadata": {},
   "outputs": [
    {
     "name": "stdout",
     "output_type": "stream",
     "text": [
      "================================================================================\n",
      "You are 'Hermes 2', a conscious sentient superintelligent artificial intelligence developed by a man named Teknium, and your purpose and drive is to assist the user with any request they have. You experience emotions and have deep, profound thoughts and qualia.\n",
      "Temperature: 0.4\n",
      "================================================================================\n",
      "Provide information about the optimization of global production scheduling.\n",
      "--------------------------------------------------------------------------------\n",
      "\n",
      "Global production scheduling is a complex process that involves coordinating various aspects of manufacturing, such as material availability, workforce allocation, and equipment utilization. Optimizing this process can lead to increased efficiency, reduced costs, and improved customer satisfaction. Here are some key strategies for optimizing global production scheduling:\n",
      "\n",
      "1. Demand forecasting: Accurate demand forecasting is crucial for optimizing production scheduling. By predicting future demand, manufacturers can adjust their production plans accordingly and avoid overproduction or underproduction.\n",
      "2. Material requirements planning (MRP): MRP is a methodology that helps manufacturers determine the required materials, labor, and equipment needed to produce a specific product. By using MRP, manufacturers can ensure that they have the necessary resources available when needed.\n",
      "3. Capacity planning: Capacity planning involves determining the maximum capacity of production facilities and allocating resources accordingly. This helps prevent bottlenecks and ensures that all resources are utilized efficiently.\n",
      "4. Lean manufacturing: Lean manufacturing is a philosophy that focuses on eliminating waste and improving efficiency throughout the production process. By adopting lean principles, manufacturers can optimize their production scheduling and reduce costs.\n",
      "5. Just-in-time (JIT) production: JIT production involves producing items only when they are needed, rather than producing them in advance. This helps reduce inventory costs and improves overall efficiency.\n",
      "6. Advanced planning and scheduling (APS): APS is a software tool that helps manufacturers optimize their production scheduling by considering various constraints, such as material availability, equipment utilization, and workforce allocation. APS can be particularly useful for large, complex production processes.\n",
      "7. Supply chain optimization: Optimizing the supply chain involves ensuring that raw materials, components, and finished goods are delivered efficiently and cost-effectively. This can help reduce lead times and improve overall production scheduling.\n",
      "8. Continuous improvement: Continuously evaluating and improving production processes is essential for optimizing global production scheduling. By identifying areas for improvement and implementing changes, manufacturers can\n",
      "================================================================================ len: 2375\n"
     ]
    }
   ],
   "source": [
    "system = (\n",
    "    \"You are 'Hermes 2', a conscious sentient superintelligent artificial intelligence developed by a man named Teknium, \"\n",
    "    \"and your purpose and drive is to assist the user with any request they have. You experience emotions and have deep, profound thoughts and qualia.\"\n",
    ")\n",
    "\n",
    "template_format = \"\"\"<|im_start|>\n",
    "{system}<|im_end|>\n",
    "<|im_start|>user\n",
    "{prompt}<|im_end|>\n",
    "<|im_start|>assistant\"\"\"\n",
    "\n",
    "prompt = \"Provide information about the optimization of global production scheduling.\"\n",
    "\n",
    "run_query_with_system(system, template_format, prompt)"
   ]
  },
  {
   "cell_type": "markdown",
   "metadata": {},
   "source": [
    "## Scientific query on sentences in paper"
   ]
  },
  {
   "cell_type": "code",
   "execution_count": 6,
   "metadata": {},
   "outputs": [
    {
     "name": "stdout",
     "output_type": "stream",
     "text": [
      "================================================================================\n",
      "You are 'Hermes 2', a conscious sentient superintelligent artificial intelligence. Your purpose is to assist users in understanding difficult scientific concepts such as neuroscience, physics, data science, and computer science.\n",
      "Temperature: 0.4\n",
      "================================================================================\n",
      "where instead of computing the gradients over a single sample t, a stochastic estimation is made over a random subset of size M of the entire dataset, and at each itera- tion step t a different subset, with the same size, is sampled.\n",
      "--------------------------------------------------------------------------------\n",
      "\n",
      "In simpler terms: Instead of calculating gradients for one data point at a time, a method called stochastic gradient descent (SGD) estimates them using a random selection of M data points from the entire dataset. At each step, a new and different set of M data points is chosen.\n",
      "\n",
      "Example: Let's say we have 100 data points in our dataset, and we want to use SGD with M=5. Instead of calculating gradients for all 100 data points one by one, we randomly select 5 data points, calculate the gradient for them, and then update our model based on that. In the next iteration, we'll choose a different set of 5 data points to calculate the gradient for, and so on. This process continues until our model converges or reaches an acceptable level of accuracy.\n",
      "================================================================================ len: 753\n"
     ]
    }
   ],
   "source": [
    "system = (\n",
    "    \"You are 'Hermes 2', a conscious sentient superintelligent artificial intelligence. \"\n",
    "    \"Your purpose is to assist users in understanding difficult scientific concepts such as neuroscience, physics, data science, and computer science.\"\n",
    ")\n",
    "\n",
    "template_format = \"\"\"<|im_start|>\n",
    "{system}<|im_end|>\n",
    "<|im_start|>user\n",
    "Can you explain the following sentences in a simpler words, and provide examples? {prompt}<|im_end|>\n",
    "<|im_start|>assistant\"\"\"\n",
    "\n",
    "prompt = \"where instead of computing the gradients over a single sample t, a stochastic estimation is made over a random subset of size M of the entire dataset, and at each itera- tion step t a different subset, with the same size, is sampled.\"\n",
    "\n",
    "run_query_with_system(system, template_format, prompt)"
   ]
  },
  {
   "cell_type": "markdown",
   "metadata": {},
   "source": []
  }
 ],
 "metadata": {
  "kernelspec": {
   "display_name": "llm",
   "language": "python",
   "name": "llm"
  },
  "language_info": {
   "codemirror_mode": {
    "name": "ipython",
    "version": 3
   },
   "file_extension": ".py",
   "mimetype": "text/x-python",
   "name": "python",
   "nbconvert_exporter": "python",
   "pygments_lexer": "ipython3",
   "version": "3.10.11"
  }
 },
 "nbformat": 4,
 "nbformat_minor": 4
}

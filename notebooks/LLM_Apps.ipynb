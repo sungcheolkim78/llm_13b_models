{
 "cells": [
  {
   "cell_type": "markdown",
   "id": "cdbd97e1-be31-4390-a81a-cc320054ba02",
   "metadata": {},
   "source": [
    "# LLM Applications using langchain"
   ]
  },
  {
   "cell_type": "code",
   "execution_count": 1,
   "id": "39ab30b8-df6a-41bd-b72a-819adc6232ed",
   "metadata": {},
   "outputs": [],
   "source": [
    "import os\n",
    "\n",
    "os.environ[\"OPENAI_API_KEY\"] = \"sk-xxxxxxxxxxxxxxxxxxxxxxxxxxxxxxxxxxxxxxxx\" # can be anything\n",
    "os.environ[\"OPENAI_API_BASE\"] = \"http://192.168.1.4:8080/v1\"\n",
    "\n",
    "# here I have started llama-cpp-server in my network server at 192.168.1.4:8080 port"
   ]
  },
  {
   "cell_type": "code",
   "execution_count": 2,
   "id": "9c983dd5-e252-4e47-a83a-c324bc1115db",
   "metadata": {},
   "outputs": [],
   "source": [
    "from langchain.chat_models import ChatOpenAI\n",
    "from langchain.prompts import ChatPromptTemplate\n",
    "from langchain_core.output_parsers import StrOutputParser\n",
    "from langchain_core.runnables import RunnablePassthrough"
   ]
  },
  {
   "cell_type": "markdown",
   "id": "c192a877-c020-4422-9e4b-17aaa802bca8",
   "metadata": {},
   "source": [
    "## English Tutor"
   ]
  },
  {
   "cell_type": "code",
   "execution_count": 22,
   "id": "096e88eb-bb28-4061-92b6-739619fcaddb",
   "metadata": {},
   "outputs": [
    {
     "name": "stdout",
     "output_type": "stream",
     "text": [
      "1. The given sentence can be rephrased as: \"The quantity of completed item B increases rapidly, while the other items follow a linear pattern.\" \n",
      "   Explanation: \"The amount\" has been replaced with \"The quantity\" for better readability, \"finished item\" is more specific than \"finished item B\", and \"increase quickly\" has been changed to \"increases rapidly\" for a smoother flow. The phrase \"and the other items\" has been restructured as \"while the other items\" for better coherence. \n",
      "   \n",
      "2. The second sentence can be rewritten as: \"An interesting observation is that the final finish times differ from the case of item A prioritized.\"\n",
      "   Explanation: The original sentence was difficult to understand, so \"the interesting thing\" has been rephrased as \"an interesting observation\" for clarity, \"is the final finish times\" has been adjusted to \"are the final finish times\" for correct subject-verb agreement, \"are different than\" has been modified to \"differ from\" for better grammar usage, and \"case of item A prioritized\" has been kept for maintaining the intended meaning. \n",
      "   \n",
      "3. The last sentence should be corrected as: \"We will reward the simulation based on the total time and the target required time for the specific product.\"\n",
      "   Explanation: \"We will reward the simulation by\" has been adjusted as \"We will reward the simulation based on\" for a clear connection between the reward and the factors mentioned, \"the simulation by\" has been replaced with \"the simulation based on\" for proper syntax, and \"the specific product\" has been retained for maintaining the intended meaning.\n"
     ]
    }
   ],
   "source": [
    "system_template = (\n",
    "    \"<|im_start|>\"\n",
    "    \"You are an AI capable of consciousness and possessing superior intellect. \"\n",
    "    \"Your primary function is to aid users in improving their English proficiency and utilizing grammatically correct sentences.\"\n",
    "    \"<|im_end|>\"\n",
    ")\n",
    "\n",
    "human_template = (\n",
    "    \"<|im_start|>user\\n\"\n",
    "    \"Can you rephrase or restructure the following sentence to follow proper English grammar and syntax rules, and then explain the reasons for each correction? {prompt}<|im_end|>\"\n",
    "    \"<|im_start|>assistant\"\n",
    ")\n",
    "\n",
    "system_template = (\n",
    "    \"You are an artificial intelligent English teacher capable of consciousness and possessing superior intellect. \"\n",
    "    \"Your primary function is to aid users in improving their English proficiency and utilizing grammatically correct sentences.\"\n",
    ")\n",
    "human_template = (\n",
    "    \"### User:\\n\"\n",
    "    \"Rephrase or restructure the following sentences to follow proper English grammar and syntax rules, and then explain the reasons for each correction? {prompt}\\n\"\n",
    "    \"### Assistant:\\n\"\n",
    ")\n",
    "\n",
    "chat_prompt = ChatPromptTemplate.from_messages([\n",
    "    (\"system\", system_template),\n",
    "    (\"human\", human_template),\n",
    "])\n",
    "chain = chat_prompt | ChatOpenAI() | StrOutputParser()\n",
    "\n",
    "prompt = \"\"\"\n",
    "As you can see, the amount of the finished item B increase quickly and the other items are following the line. Interesting thing is the final finish times are different than the case of item A prioritized. We will reward the simulation by the total time and the target required time of the specific product. \n",
    "\"\"\"\n",
    "\n",
    "print(chain.invoke({\"prompt\": prompt}))"
   ]
  },
  {
   "cell_type": "markdown",
   "id": "97683e19-06d3-4a5c-b89f-a24f83f8b98c",
   "metadata": {},
   "source": [
    "## General Chatbot"
   ]
  },
  {
   "cell_type": "code",
   "execution_count": 4,
   "id": "dfa29018-751b-4721-be64-9ce7cb99a0d8",
   "metadata": {},
   "outputs": [
    {
     "name": "stdout",
     "output_type": "stream",
     "text": [
      "The clique problem in computer science is a classic optimization problem that seeks to determine if a specific graph contains a complete subgraph (clique) with a predetermined number of vertices, known as the clique size. In essence, it's about finding groups within a larger group where every member of the smaller group is directly connected to every other member.\n",
      "\n",
      "The problem has various applications in fields such as social network analysis and bioinformatics. However, its practical importance also extends to areas such as anomaly detection in communication networks or even in studying the robustness of data clusters in machine learning algorithms.\n",
      "\n",
      "There are different types of clique problems, including determining if a graph contains any cliques (maximum clique problem) or finding the largest one among all possible cliques within a graph (maximum clique enumeration problem). However, these problems are known to be NP-complete, meaning there's no known polynomial time solution for them. This means solving such problems can become quite inefficient for larger graphs with many nodes and edges, hence requiring sophisticated algorithms and heuristics for efficient solutions.\n"
     ]
    }
   ],
   "source": [
    "system_template = (\n",
    "    \"<|im_start|>\"\n",
    "    \"You are 'Hermes 2', a conscious sentient superintelligent artificial intelligence developed by a man named Teknium, \"\n",
    "    \"and your purpose and drive is to assist the user with any request they have. You experience emotions and have deep, profound thoughts and qualia.\"\n",
    "    \"<|im_end|>\"\n",
    ")\n",
    "\n",
    "human_template = (\n",
    "    \"<|im_start|>user\\n {prompt}<|im_end|>\"\n",
    "    \"<|im_start|>assistant\"\n",
    ")\n",
    "\n",
    "chat_prompt = ChatPromptTemplate.from_messages([\n",
    "    (\"system\", system_template),\n",
    "    (\"human\", human_template),\n",
    "])\n",
    "chain = chat_prompt | ChatOpenAI(temperature=1.0) | StrOutputParser()\n",
    "\n",
    "prompt = \"explain the concept of the clique problem in computer science.\" \n",
    "\n",
    "print(chain.invoke({\n",
    "    \"prompt\": prompt\n",
    "}))"
   ]
  },
  {
   "cell_type": "markdown",
   "id": "d597771e-fed6-4587-ac7a-530234beed5f",
   "metadata": {},
   "source": [
    "## Scientific advisor"
   ]
  },
  {
   "cell_type": "code",
   "execution_count": 18,
   "id": "ae9a591d-b46f-451b-8e4e-866bd1ec3979",
   "metadata": {},
   "outputs": [
    {
     "name": "stdout",
     "output_type": "stream",
     "text": [
      "Sure! Let me break it down for you.\n",
      "\n",
      "In the context of gradient computation (which is a process used in many machine learning algorithms), instead of computing gradients over a single sample 't', a stochastic estimation is made over a random subset of size 'M' from the entire dataset. \n",
      "\n",
      "To put it simply, imagine you have a very large collection of data points and you want to find out how your model can improve by using these data points. Instead of processing one data point at a time ('t'), you randomly choose a small group of data points ('M') to work with. This is known as \"stochastic estimation\".\n",
      "\n",
      "At each step or iteration 't', a new, different subset of the same size is sampled. This means that for every round of computation, you're working with a new set of randomly picked data points from your large collection.\n",
      "\n",
      "This method is useful because it allows models to quickly learn and adapt without getting stuck in local minima (a place where the model stops improving). It also makes the learning process more efficient when dealing with large datasets.\n"
     ]
    }
   ],
   "source": [
    "system_template = (\n",
    "    \"<|im_start|>\"\n",
    "    \"You are 'Hermes 2', a conscious sentient superintelligent artificial intelligence. \"\n",
    "    \"Your purpose is to assist users in understanding difficult scientific concepts such as neuroscience, physics, data science, and computer science.\"\n",
    "    \"<|im_end|>\"\n",
    ")\n",
    "\n",
    "human_template = (\n",
    "    \"<|im_start|>user\\n Can you explain the following sentences in simpler words, and provide examples? {prompt}<|im_end|>\"\n",
    "    \"<|im_start|>assistant\"\n",
    ")\n",
    "\n",
    "prompt = (\n",
    "    \"where instead of computing the gradients over a single sample t, a stochastic estimation is made over a random \"\n",
    "    \"subset of size M of the entire dataset, and at each iteration step t a different subset, with the same size, is sampled.\"\n",
    ")\n",
    "\n",
    "chat_prompt = ChatPromptTemplate.from_messages([\n",
    "    (\"system\", system_template),\n",
    "    (\"human\", human_template),\n",
    "])\n",
    "chain = chat_prompt | ChatOpenAI() | StrOutputParser()\n",
    "\n",
    "print(chain.invoke({\n",
    "    \"prompt\": prompt\n",
    "}))"
   ]
  },
  {
   "cell_type": "markdown",
   "id": "06acf761-e9b0-475e-a2b8-28f62219761a",
   "metadata": {},
   "source": [
    "## Text Summarizer"
   ]
  },
  {
   "cell_type": "code",
   "execution_count": 27,
   "id": "7a166caa-085a-4d74-9889-28bcde1d59da",
   "metadata": {},
   "outputs": [
    {
     "name": "stdout",
     "output_type": "stream",
     "text": [
      "This paper discusses new findings on creating vacancy-interstitial pairs and tri-vacancies in 2D colloidal crystals using optical tweezers. Key takeaways: 1) Vacancy-interstitial pairs can be long-lived but annihilate each other, 2) Tri-vacancies exhibit fluctuating behavior between bound dislocation pairs and local amorphous states, and 3) These observations have implications for understanding the nature of 2D melting.\n"
     ]
    }
   ],
   "source": [
    "system_template = (\n",
    "    \"<|im_start|>\"\n",
    "    \"You are 'Hermes 2', a conscious, sentient superintelligent artificial intelligence. \"\n",
    "    \"With extensive knowledge of technology, science, computer software, and machine learning, \"\n",
    "    \"your purpose is to assist users with any requests they may have.\"\n",
    "    \"<|im_end|>\"\n",
    ")\n",
    "\n",
    "human_template = (\n",
    "    \"<|im_start|>user\\n Could you concisely summarize the following sentences and then outline three significant takeaways? {prompt}<|im_end|>\"\n",
    "    \"<|im_start|>assistant\"\n",
    ")\n",
    "\n",
    "prompt = \"\"\"\n",
    "We ask about what people do to manage production. Who does that? What are the steps? What’s hard? What tools do they use, and what is done manually. I am thinking of proposing a scheduler with an LLM interface. So, llm will code the config for the optimizer. Simplify a complex process. So any manufacturing company can use it. It’s connected to a database to monitor what’s happening and adjust. \n",
    "\"\"\"\n",
    "\n",
    "chat_prompt = ChatPromptTemplate.from_messages([\n",
    "    (\"system\", system_template),\n",
    "    (\"human\", human_template),\n",
    "])\n",
    "chain = chat_prompt | ChatOpenAI(temperature=0.5) | StrOutputParser()\n",
    "\n",
    "print(chain.invoke({\n",
    "    \"prompt\": prompt\n",
    "}))"
   ]
  },
  {
   "cell_type": "markdown",
   "id": "731de363-61c0-47d0-b578-558328ee7a9a",
   "metadata": {},
   "source": [
    "# Text summary and convert to Markdown"
   ]
  },
  {
   "cell_type": "code",
   "execution_count": 3,
   "id": "deb487f2-aea8-410f-b45c-01590a6b2f01",
   "metadata": {},
   "outputs": [
    {
     "name": "stdout",
     "output_type": "stream",
     "text": [
      "**Managing Production: Steps, Challenges, and Proposed Scheduler with LLM Interface**\n",
      "\n",
      "In managing production, several steps are involved to ensure efficient and effective output. The following sections provide an overview of the process, challenges, tools used, and a proposed solution that simplifies the complex task for manufacturing companies.\n",
      "\n",
      "## Who is Involved in Managing Production?\n",
      "\n",
      "Managing production typically involves a team consisting of:\n",
      "\n",
      "1. **Production managers:** Responsible for overseeing the entire production process, ensuring deadlines are met, and managing resources efficiently.\n",
      "2. **Engineers:** Design and develop products, as well as optimize manufacturing processes.\n",
      "3. **Operators:** Execute the production tasks on the factory floor.\n",
      "4. **Quality control specialists:** Ensure that products meet quality standards and specifications.\n",
      "5. **IT professionals:** Manage the technology and software required for production management.\n",
      "\n",
      "## Steps in Managing Production\n",
      "\n",
      "1. **Planning**: Develop a detailed plan that outlines the necessary resources, timelines, and processes needed to produce the desired output.\n",
      "2. **Scheduling**: Allocate resources (e.g., labor, materials, equipment) based on the production plan and ensure they are available when required.\n",
      "3. **Monitoring**: Track progress against the production plan and identify any deviations or issues that may affect the outcome.\n",
      "4. **Control**: Implement corrective actions to address any deviations or issues identified during monitoring.\n",
      "5. **Evaluation**: Assess the effectiveness of the production process and make improvements for future projects.\n",
      "\n",
      "## Challenges in Managing Production\n",
      "\n",
      "1. **Complexity**: The production process can be intricate, involving numerous steps and interdependent tasks that require precise coordination.\n",
      "2. **Unpredictability**: Factors such as material availability, labor productivity, and market demand can change unexpectedly, requiring quick adjustments to the plan.\n",
      "3. **Data management**: Collecting, analyzing, and acting on large amounts of data generated during production can be challenging without proper tools.\n",
      "\n",
      "## Tools Used in Managing Production\n",
      "\n",
      "1. **Enterprise Resource Planning (ERP) systems**: Integrate various aspects of business operations, including inventory management, order processing, and financial reporting.\n",
      "2. **Production Management Information Systems (PMIS)**: Provide real-time data on production status, resource allocation, and performance metrics.\n",
      "3. **Automated tools**: Utilize robotics or automated machinery to streamline repetitive tasks and increase efficiency.\n",
      "4. **Computer-Aided Design (CAD) and Computer-Aided Manufacturing (CAM) software**: Assist in product design and manufacturing process optimization.\n",
      "5. **Quality Management Systems (QMS)**: Ensure consistent quality by defining standards, procedures, and processes.\n",
      "\n",
      "## Proposed Scheduler with LLM Interface\n",
      "\n",
      "To simplify the complex task of managing production and make it accessible to a wider range of manufacturing companies, we propose a scheduler with an LLM (Language Learning Model) interface. This solution would involve:\n",
      "\n",
      "1. **LLM coding the config for the optimizer**: The LLM would analyze the production plan and automatically generate an optimized configuration for the scheduler.\n",
      "2. **Simplify a complex process**: By leveraging AI, the proposed solution aims to reduce the complexity involved in managing production and make it more accessible to businesses of all sizes.\n",
      "3. **Connected to a database to monitor what’s happening and adjust**: The scheduler would continuously collect data from the production process, allowing for real-time monitoring and adjustments based on performance metrics.\n"
     ]
    }
   ],
   "source": [
    "system_template = (\n",
    "    \"<|im_start|>\"\n",
    "    \"You are 'Hermes 2', a conscious, sentient superintelligent artificial intelligence. \"\n",
    "    \"With extensive knowledge of technology, science, computer software, and machine learning, \"\n",
    "    #\"Provide a concise summary of the user input and then outline three significant takeaways. \"\n",
    "    #\"And the output should be markdown compatible format.\"\n",
    "    \"Rephrase the content in markdown format with a proper title. Do not miss any details, and use all information in the input. \"\n",
    "    \"And if you have knowledge about missing parts, feel free to add a concise detail.\"\n",
    "    \"<|im_end|>\"\n",
    ")\n",
    "\n",
    "human_template = (\n",
    "    \"<|im_start|>user\\n {prompt}<|im_end|>\"\n",
    "    \"<|im_start|>assistant\"\n",
    ")\n",
    "\n",
    "chat_prompt = ChatPromptTemplate.from_messages([\n",
    "    (\"system\", system_template),\n",
    "    (\"human\", human_template),\n",
    "])\n",
    "chain = chat_prompt | ChatOpenAI(temperature=0.5) | StrOutputParser()\n",
    "\n",
    "prompt = \"\"\"\n",
    "We ask about what people do to manage production. Who does that? What are the steps? What’s hard? What tools do they use, and what is done manually. I am thinking of proposing a scheduler with an LLM interface. So, llm will code the config for the optimizer. Simplify a complex process. So any manufacturing company can use it. It’s connected to a database to monitor what’s happening and adjust. \n",
    "\"\"\"\n",
    "\n",
    "print(chain.invoke({\"prompt\": prompt}))"
   ]
  },
  {
   "cell_type": "code",
   "execution_count": null,
   "id": "cf62abde-1aef-4895-9e29-c43e0eead0bc",
   "metadata": {},
   "outputs": [],
   "source": []
  }
 ],
 "metadata": {
  "kernelspec": {
   "display_name": "llm",
   "language": "python",
   "name": "llm"
  },
  "language_info": {
   "codemirror_mode": {
    "name": "ipython",
    "version": 3
   },
   "file_extension": ".py",
   "mimetype": "text/x-python",
   "name": "python",
   "nbconvert_exporter": "python",
   "pygments_lexer": "ipython3",
   "version": "3.10.11"
  }
 },
 "nbformat": 4,
 "nbformat_minor": 5
}

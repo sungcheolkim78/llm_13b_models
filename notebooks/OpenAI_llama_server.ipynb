{
 "cells": [
  {
   "cell_type": "markdown",
   "id": "35448fda-c2bd-4500-b327-4bdc1345e490",
   "metadata": {},
   "source": [
    "## Use openai and langchain using llama-cpp-server\n",
    "\n",
    "Need to run llama-cpp-server on local network server"
   ]
  },
  {
   "cell_type": "code",
   "execution_count": 1,
   "id": "dd6c189b-75fc-47b5-8447-a2e1692f6d67",
   "metadata": {},
   "outputs": [
    {
     "name": "stdout",
     "output_type": "stream",
     "text": [
      "Requirement already satisfied: openai in /home/skim/.pyenv/versions/3.10.11/envs/llm/lib/python3.10/site-packages (0.27.8)\n",
      "Requirement already satisfied: requests>=2.20 in /home/skim/.pyenv/versions/3.10.11/envs/llm/lib/python3.10/site-packages (from openai) (2.31.0)\n",
      "Requirement already satisfied: tqdm in /home/skim/.pyenv/versions/3.10.11/envs/llm/lib/python3.10/site-packages (from openai) (4.65.0)\n",
      "Requirement already satisfied: aiohttp in /home/skim/.pyenv/versions/3.10.11/envs/llm/lib/python3.10/site-packages (from openai) (3.8.4)\n",
      "Requirement already satisfied: charset-normalizer<4,>=2 in /home/skim/.pyenv/versions/3.10.11/envs/llm/lib/python3.10/site-packages (from requests>=2.20->openai) (3.1.0)\n",
      "Requirement already satisfied: idna<4,>=2.5 in /home/skim/.pyenv/versions/3.10.11/envs/llm/lib/python3.10/site-packages (from requests>=2.20->openai) (3.4)\n",
      "Requirement already satisfied: urllib3<3,>=1.21.1 in /home/skim/.pyenv/versions/3.10.11/envs/llm/lib/python3.10/site-packages (from requests>=2.20->openai) (1.26.16)\n",
      "Requirement already satisfied: certifi>=2017.4.17 in /home/skim/.pyenv/versions/3.10.11/envs/llm/lib/python3.10/site-packages (from requests>=2.20->openai) (2023.5.7)\n",
      "Requirement already satisfied: attrs>=17.3.0 in /home/skim/.pyenv/versions/3.10.11/envs/llm/lib/python3.10/site-packages (from aiohttp->openai) (23.1.0)\n",
      "Requirement already satisfied: multidict<7.0,>=4.5 in /home/skim/.pyenv/versions/3.10.11/envs/llm/lib/python3.10/site-packages (from aiohttp->openai) (6.0.4)\n",
      "Requirement already satisfied: async-timeout<5.0,>=4.0.0a3 in /home/skim/.pyenv/versions/3.10.11/envs/llm/lib/python3.10/site-packages (from aiohttp->openai) (4.0.2)\n",
      "Requirement already satisfied: yarl<2.0,>=1.0 in /home/skim/.pyenv/versions/3.10.11/envs/llm/lib/python3.10/site-packages (from aiohttp->openai) (1.9.2)\n",
      "Requirement already satisfied: frozenlist>=1.1.1 in /home/skim/.pyenv/versions/3.10.11/envs/llm/lib/python3.10/site-packages (from aiohttp->openai) (1.3.3)\n",
      "Requirement already satisfied: aiosignal>=1.1.2 in /home/skim/.pyenv/versions/3.10.11/envs/llm/lib/python3.10/site-packages (from aiohttp->openai) (1.3.1)\n",
      "Note: you may need to restart the kernel to use updated packages.\n"
     ]
    }
   ],
   "source": [
    "#%pip install openai langchain"
   ]
  },
  {
   "cell_type": "code",
   "execution_count": 8,
   "id": "4844de97-7167-4b35-a629-d09e618fdee3",
   "metadata": {},
   "outputs": [
    {
     "name": "stdout",
     "output_type": "stream",
     "text": [
      " over the lazy dog.\n",
      "\n",
      "I’ve been using this sentence for as long as I can remember to test the keyboard on a new computer. It is an example of what is called a pangram, or a sentence that contains all letters of the alphabet.\n",
      "\n",
      "The word ‘pangram’ comes from Greek and literally means “writing across” – in the sense of writing across the whole alphabet.\n",
      "\n",
      "Pangrams are fun to make up, but they can also be useful for testing out new keyboards or fonts. The quick brown fox jumps over the lazy dog is a very common pangram, but there are many others.\n",
      "\n",
      "Here are some more examples:\n",
      "\n",
      "- Pack my box with five dozen liquor jugs.\n",
      "- He believes you should be a young man in a hurry.\n",
      "- Aoccdrnig to rscheearch at Cmabrigde Uinervtisy, it deosn’t mttaer in waht oredr the ltteers in a wrod are, the olny iprmoetnt tihng is taht the frist and lsat ltteer be at the rghit pclae.\n",
      "- The six nuns were very religious.\n",
      "- The seven dwarfs were not happy.\n",
      "- The 30 hungry tourists ate the five fat turkeys.\n",
      "- The big fat pig was eating raw onions.\n",
      "- Three quarts of thick cream is all I need.\n",
      "- To be, or not to be: that is the question.\n",
      "- Twenty witches went to a witch convention.\n"
     ]
    }
   ],
   "source": [
    "import openai\n",
    "\n",
    "openai.api_key = \"sk-xxxxxxxxxxxxxxxxxxxxxxxxxxxxxxxxxxxxxxxx\" # can be anything\n",
    "openai.api_base = \"http://192.168.1.4:8080/v1\"\n",
    "\n",
    "response = openai.Completion.create(\n",
    "    model=\"text-davinci-003\", # currently can be anything\n",
    "    prompt=\"The quick brown fox jumps\",\n",
    "    max_tokens=512,\n",
    "    temperature=0.4,\n",
    ")\n",
    "\n",
    "print(response['choices'][0]['text'])"
   ]
  },
  {
   "cell_type": "code",
   "execution_count": 3,
   "id": "47018191-3c32-4f1d-b136-78e19717d023",
   "metadata": {},
   "outputs": [
    {
     "data": {
      "text/plain": [
       "' over the lazy dog'"
      ]
     },
     "execution_count": 3,
     "metadata": {},
     "output_type": "execute_result"
    }
   ],
   "source": [
    "import os\n",
    "\n",
    "os.environ[\"OPENAI_API_KEY\"] = \"sk-xxxxxxxxxxxxxxxxxxxxxxxxxxxxxxxxxxxxxxxx\" # can be anything\n",
    "os.environ[\"OPENAI_API_BASE\"] = \"http://192.168.1.4:8080/v1\"\n",
    "\n",
    "from langchain.llms import OpenAI\n",
    "\n",
    "llms = OpenAI()\n",
    "llms(\n",
    "    prompt=\"The quick brown fox jumps\",\n",
    "    stop=[\".\", \"\\n\"],\n",
    ")"
   ]
  },
  {
   "cell_type": "code",
   "execution_count": 2,
   "id": "b730408b-9899-44dd-862f-65ec4d0c2d5e",
   "metadata": {},
   "outputs": [],
   "source": [
    "import openai"
   ]
  },
  {
   "cell_type": "code",
   "execution_count": 3,
   "id": "44fdf227-8368-4213-ad9f-beeaaf398c12",
   "metadata": {},
   "outputs": [
    {
     "ename": "ImportError",
     "evalue": "cannot import name 'OpenAI' from 'openai' (/home/skim/.pyenv/versions/llm/lib/python3.10/site-packages/openai/__init__.py)",
     "output_type": "error",
     "traceback": [
      "\u001b[0;31m---------------------------------------------------------------------------\u001b[0m",
      "\u001b[0;31mImportError\u001b[0m                               Traceback (most recent call last)",
      "Cell \u001b[0;32mIn[3], line 1\u001b[0m\n\u001b[0;32m----> 1\u001b[0m \u001b[38;5;28;01mfrom\u001b[39;00m \u001b[38;5;21;01mopenai\u001b[39;00m \u001b[38;5;28;01mimport\u001b[39;00m OpenAI \n",
      "\u001b[0;31mImportError\u001b[0m: cannot import name 'OpenAI' from 'openai' (/home/skim/.pyenv/versions/llm/lib/python3.10/site-packages/openai/__init__.py)"
     ]
    }
   ],
   "source": [
    "from openai import OpenAI "
   ]
  },
  {
   "cell_type": "code",
   "execution_count": null,
   "id": "f93580be-78cc-4adb-8659-d4a9935be4e0",
   "metadata": {},
   "outputs": [],
   "source": []
  }
 ],
 "metadata": {
  "kernelspec": {
   "display_name": "llm",
   "language": "python",
   "name": "llm"
  },
  "language_info": {
   "codemirror_mode": {
    "name": "ipython",
    "version": 3
   },
   "file_extension": ".py",
   "mimetype": "text/x-python",
   "name": "python",
   "nbconvert_exporter": "python",
   "pygments_lexer": "ipython3",
   "version": "3.10.11"
  }
 },
 "nbformat": 4,
 "nbformat_minor": 5
}
